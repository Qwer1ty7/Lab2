{
  "nbformat": 4,
  "nbformat_minor": 0,
  "metadata": {
    "colab": {
      "name": "2lab.ipynb",
      "provenance": [],
      "collapsed_sections": [],
      "include_colab_link": true
    },
    "kernelspec": {
      "name": "python3",
      "display_name": "Python 3"
    },
    "language_info": {
      "name": "python"
    }
  },
  "cells": [
    {
      "cell_type": "markdown",
      "metadata": {
        "id": "view-in-github",
        "colab_type": "text"
      },
      "source": [
        "<a href=\"https://colab.research.google.com/github/Qwer1ty7/Lab2/blob/main/2lab.ipynb\" target=\"_parent\"><img src=\"https://colab.research.google.com/assets/colab-badge.svg\" alt=\"Open In Colab\"/></a>"
      ]
    },
    {
      "cell_type": "code",
      "source": [
        "!pip install imap_tools\n",
        "!pip install cryptography"
      ],
      "metadata": {
        "colab": {
          "base_uri": "https://localhost:8080/"
        },
        "id": "of816dungaQA",
        "outputId": "4b01da69-f46d-4f31-8581-35940a4329bc"
      },
      "execution_count": null,
      "outputs": [
        {
          "output_type": "stream",
          "name": "stdout",
          "text": [
            "Requirement already satisfied: imap_tools in /usr/local/lib/python3.7/dist-packages (0.53.0)\n",
            "Requirement already satisfied: cryptography in /usr/local/lib/python3.7/dist-packages (36.0.2)\n",
            "Requirement already satisfied: cffi>=1.12 in /usr/local/lib/python3.7/dist-packages (from cryptography) (1.15.0)\n",
            "Requirement already satisfied: pycparser in /usr/local/lib/python3.7/dist-packages (from cffi>=1.12->cryptography) (2.21)\n"
          ]
        }
      ]
    },
    {
      "cell_type": "code",
      "source": [
        "from cryptography.hazmat.backends import default_backend\n",
        "from cryptography.hazmat.primitives import serialization\n",
        "from cryptography.hazmat.primitives.asymmetric import rsa\n",
        "\n",
        "def generateKey(public_exponent : int = 65537, key_size : int = 4096):\n",
        "        private_key = rsa.generate_private_key(\n",
        "            public_exponent = public_exponent,\n",
        "            key_size = key_size,\n",
        "            backend = default_backend(),\n",
        "        )\n",
        "\n",
        "        with open('private.key', 'wb') as f:\n",
        "            f.write(\n",
        "                private_key.private_bytes(\n",
        "                    encoding=serialization.Encoding.PEM,\n",
        "                    format=serialization.PrivateFormat.TraditionalOpenSSL,\n",
        "                    encryption_algorithm=serialization.NoEncryption(),\n",
        "                )\n",
        "            )\n",
        "\n",
        "        with open('public.pem', 'wb') as f:\n",
        "            f.write(\n",
        "                private_key.public_key().public_bytes(\n",
        "                    encoding = serialization.Encoding.PEM,\n",
        "                    format = serialization.PublicFormat.SubjectPublicKeyInfo,\n",
        "                )\n",
        "            )"
      ],
      "metadata": {
        "id": "IRQMMRiVqLtW"
      },
      "execution_count": null,
      "outputs": []
    },
    {
      "cell_type": "code",
      "source": [
        "from email.header import decode_header\n",
        "import os\n",
        "from imap_tools import MailBox\n",
        "\n",
        "def recieve(user, password):\n",
        "\n",
        "    with MailBox('imap.gmail.com').login(user, password, 'INBOX') as mailbox:\n",
        "            recievedFiles = []\n",
        "            sentFileName = ''\n",
        "            msg = next(mailbox.fetch(mark_seen = False, reverse = True))\n",
        "            for att in msg.attachments:\n",
        "                with open(os.path.join('recieved', att.filename), 'wb') as f:\n",
        "                    f.write(att.payload)\n",
        "                recievedFiles.append(att.filename)\n",
        "                if att.filename != \"public.pem\" and att.filename != \"signature.sig\":\n",
        "                    sentFileName = att.filename\n",
        "            if \"public.pem\" in recievedFiles and\\\n",
        "                \"signature.sig\" in recievedFiles and\\\n",
        "                len(recievedFiles) == 3:\n",
        "                return sentFileName\n",
        "            else:\n",
        "                return False"
      ],
      "metadata": {
        "id": "kD9DJoyni2O3"
      },
      "execution_count": null,
      "outputs": []
    },
    {
      "cell_type": "code",
      "source": [
        "import base64\n",
        "import cryptography.exceptions\n",
        "from cryptography.hazmat.backends import default_backend\n",
        "from cryptography.hazmat.primitives import hashes\n",
        "from cryptography.hazmat.primitives.asymmetric import padding\n",
        "from cryptography.hazmat.primitives.serialization import load_pem_public_key\n",
        "import os\n",
        "\n",
        "def isSignatureReal(filename):\n",
        "    with open('recieved/public.pem', 'rb') as f:\n",
        "        public_key = load_pem_public_key(f.read(), default_backend())\n",
        "\n",
        "    with open(os.path.join('recieved', filename), 'rb') as f:\n",
        "        payload_contents = f.read()\n",
        "    with open('recieved/signature.sig', 'rb') as f:\n",
        "        signature = base64.b64decode(f.read())\n",
        "\n",
        "    try:\n",
        "        public_key.verify(\n",
        "            signature,\n",
        "            payload_contents,\n",
        "            padding.PSS(\n",
        "                mgf = padding.MGF1(hashes.SHA256()),\n",
        "                salt_length = padding.PSS.MAX_LENGTH,\n",
        "            ),\n",
        "            hashes.SHA256(),\n",
        "        )\n",
        "        return True\n",
        "    except cryptography.exceptions.InvalidSignature as e:\n",
        "        return False"
      ],
      "metadata": {
        "id": "vFkj_IVAlhlf"
      },
      "execution_count": null,
      "outputs": []
    },
    {
      "cell_type": "code",
      "source": [
        "import smtplib, ssl\n",
        "from os.path import basename\n",
        "from email.mime.application import MIMEApplication\n",
        "from email.mime.multipart import MIMEMultipart\n",
        "from email.mime.text import MIMEText\n",
        "from email.utils import COMMASPACE, formatdate\n",
        "\n",
        "def send_mail(send_from, password, send_to, subject, text, files=None,\n",
        "              smtp_server = \"smtp.gmail.com\", smtp_port = 587):\n",
        "\n",
        "    msg = MIMEMultipart()\n",
        "    msg['From'] = send_from\n",
        "    msg['To'] = COMMASPACE.join(send_to)\n",
        "    msg['Date'] = formatdate(localtime=True)\n",
        "    msg['Subject'] = subject\n",
        "\n",
        "    msg.attach(MIMEText(text))\n",
        "\n",
        "    for f in files or []:\n",
        "        with open(f, \"rb\") as fil:\n",
        "            part = MIMEApplication(\n",
        "                fil.read(),\n",
        "                Name=basename(f)\n",
        "            )\n",
        "        part['Content-Disposition'] = 'attachment; filename=\"%s\"' % basename(f)\n",
        "        msg.attach(part)\n",
        "\n",
        "    gmail = send_from\n",
        "\n",
        "    context = ssl.create_default_context()\n",
        "\n",
        "    with smtplib.SMTP(smtp_server, smtp_port) as server:\n",
        "        server.starttls(context=context)\n",
        "        server.ehlo()\n",
        "        server.login(gmail, password)\n",
        "        server.sendmail(send_from, send_to, msg.as_string())\n",
        "        server.quit()"
      ],
      "metadata": {
        "id": "vmxQRwwHlvo8"
      },
      "execution_count": null,
      "outputs": []
    },
    {
      "cell_type": "code",
      "source": [
        "from cryptography.hazmat.backends import default_backend\n",
        "from cryptography.hazmat.primitives import serialization\n",
        "from cryptography.hazmat.primitives.asymmetric import rsa\n",
        "\n",
        "def generateKey(public_exponent : int = 65537, key_size : int = 4096):\n",
        "        private_key = rsa.generate_private_key(\n",
        "            public_exponent = public_exponent,\n",
        "            key_size = key_size,\n",
        "            backend = default_backend(),\n",
        "        )\n",
        "\n",
        "        with open('private.key', 'wb') as f:\n",
        "            f.write(\n",
        "                private_key.private_bytes(\n",
        "                    encoding=serialization.Encoding.PEM,\n",
        "                    format=serialization.PrivateFormat.TraditionalOpenSSL,\n",
        "                    encryption_algorithm=serialization.NoEncryption(),\n",
        "                )\n",
        "            )\n",
        "\n",
        "        with open('public.pem', 'wb') as f:\n",
        "            f.write(\n",
        "                private_key.public_key().public_bytes(\n",
        "                    encoding = serialization.Encoding.PEM,\n",
        "                    format = serialization.PublicFormat.SubjectPublicKeyInfo,\n",
        "                )\n",
        "            )"
      ],
      "metadata": {
        "id": "2IS-1LV9mRMk"
      },
      "execution_count": null,
      "outputs": []
    },
    {
      "cell_type": "code",
      "source": [
        "import base64\n",
        "from cryptography.hazmat.backends import default_backend\n",
        "from cryptography.hazmat.primitives import hashes\n",
        "from cryptography.hazmat.primitives import serialization\n",
        "from cryptography.hazmat.primitives.asymmetric import padding\n",
        "\n",
        "def sign(filename : str):\n",
        "\n",
        "    generateKey()\n",
        "\n",
        "    # Load the private key. \n",
        "    with open('private.key', 'rb') as key_file: \n",
        "        private_key = serialization.load_pem_private_key(\n",
        "            key_file.read(),\n",
        "            password = None,\n",
        "            backend = default_backend(),\n",
        "        )\n",
        "\n",
        "    with open(filename, 'rb') as f:\n",
        "        payload = f.read()\n",
        "\n",
        "    signature = base64.b64encode(\n",
        "        private_key.sign(\n",
        "            payload,\n",
        "            padding.PSS(\n",
        "                mgf = padding.MGF1(hashes.SHA256()),\n",
        "                salt_length = padding.PSS.MAX_LENGTH,\n",
        "            ),\n",
        "            hashes.SHA256(),\n",
        "        )\n",
        "    )\n",
        "    with open('signature.sig', 'wb') as f:\n",
        "        f.write(signature)"
      ],
      "metadata": {
        "id": "6MILew_KmN5K"
      },
      "execution_count": null,
      "outputs": []
    },
    {
      "cell_type": "code",
      "source": [
        "import base64\n",
        "import cryptography.exceptions\n",
        "from cryptography.hazmat.backends import default_backend\n",
        "from cryptography.hazmat.primitives import hashes\n",
        "from cryptography.hazmat.primitives.asymmetric import padding\n",
        "from cryptography.hazmat.primitives.serialization import load_pem_public_key\n",
        "import os\n",
        "\n",
        "def isSignatureReal(filename):\n",
        "    with open('recieved/public.pem', 'rb') as f:\n",
        "        public_key = load_pem_public_key(f.read(), default_backend())\n",
        "\n",
        "    with open(os.path.join('recieved', filename), 'rb') as f:\n",
        "        payload_contents = f.read()\n",
        "    with open('recieved/signature.sig', 'rb') as f:\n",
        "        signature = base64.b64decode(f.read())\n",
        "\n",
        "    try:\n",
        "        public_key.verify(\n",
        "            signature,\n",
        "            payload_contents,\n",
        "            padding.PSS(\n",
        "                mgf = padding.MGF1(hashes.SHA256()),\n",
        "                salt_length = padding.PSS.MAX_LENGTH,\n",
        "            ),\n",
        "            hashes.SHA256(),\n",
        "        )\n",
        "        return True\n",
        "    except cryptography.exceptions.InvalidSignature as e:\n",
        "        return False"
      ],
      "metadata": {
        "id": "4N2C8UunqEkr"
      },
      "execution_count": null,
      "outputs": []
    },
    {
      "cell_type": "code",
      "source": [
        "import getpass\n",
        "\n",
        "email_from = \"sender228uw@gmail.com\"\n",
        "email_to_list = [\"reciever228uw@gmail.com\"]\n",
        "subject = \"Send file\"\n",
        "text = \"File\" \n",
        "file = \"kek.jpg\"\n",
        "additional_files = [\"public.pem\", \"signature.sig\"]\n",
        "attachments = additional_files + [file]\n",
        "\n",
        "password = getpass.getpass()\n",
        "\n",
        "sign(file)\n",
        "send_mail(email_from, password, email_to_list, subject, text, attachments)"
      ],
      "metadata": {
        "colab": {
          "base_uri": "https://localhost:8080/"
        },
        "id": "m6LAfg-YmIvx",
        "outputId": "d25ccda6-971a-4b0f-c77e-58eb52049144"
      },
      "execution_count": null,
      "outputs": [
        {
          "name": "stdout",
          "output_type": "stream",
          "text": [
            "··········\n"
          ]
        }
      ]
    },
    {
      "cell_type": "code",
      "source": [
        "email_user = input('Email: ')\n",
        "email_pass = input('Password: ')\n",
        "\n",
        "filename = recieve(email_user, email_pass)\n",
        "if filename:\n",
        "    print(isSignatureReal(filename))\n",
        "else:\n",
        "    print('An error occured')"
      ],
      "metadata": {
        "id": "txSv_9XXhqef"
      },
      "execution_count": null,
      "outputs": []
    }
  ]
}